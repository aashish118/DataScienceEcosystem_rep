{
 "cells": [
  {
   "cell_type": "markdown",
   "id": "f284827c-ff07-4b49-a80e-6e282635fe29",
   "metadata": {
    "tags": []
   },
   "source": [
    "# Data Science Tools and Ecosystem"
   ]
  },
  {
   "cell_type": "markdown",
   "id": "3b5e1835-0abf-4291-a3cc-5d5a2807f98f",
   "metadata": {
    "tags": []
   },
   "source": [
    "\n",
    "In this notebook, Data Science Tools and Ecosystem are summarized.\n"
   ]
  },
  {
   "cell_type": "markdown",
   "id": "65dd3377-1f6e-4103-af8a-717e13bb72c4",
   "metadata": {},
   "source": [
    "Some of the popular languages that Data Scientists use are:\n",
    "1. Python\n",
    "2. R\n",
    "3. SQL\n",
    "4. Julia\n",
    "\n",
    "    "
   ]
  },
  {
   "cell_type": "markdown",
   "id": "cbc07bb5-e908-42e1-a5cc-4b41338eb1fa",
   "metadata": {},
   "source": [
    "Some of the commonly used libraries used by Data Scientists include:\n",
    "1. Numpy\n",
    "2. pandas\n",
    "3. Matplotlib\n",
    "4. Pytorch"
   ]
  },
  {
   "cell_type": "markdown",
   "id": "ccfa590d-04a3-4720-9fd8-e043bc0b342a",
   "metadata": {},
   "source": [
    "| Data Science Tools |\n",
    "|--------------------|\n",
    "| Jupyter Notebook   |\n",
    "| RStudio            |\n",
    "| Visual Studio Code |\n"
   ]
  },
  {
   "cell_type": "markdown",
   "id": "27b39403-74f1-439e-9f6b-cb536da8e2c0",
   "metadata": {
    "tags": []
   },
   "source": [
    "### Below are a few examples of evaluating arithmetic expressions in Python"
   ]
  },
  {
   "cell_type": "code",
   "execution_count": 5,
   "id": "9973aec3-5600-454c-a228-bd59b0c8d875",
   "metadata": {
    "tags": []
   },
   "outputs": [
    {
     "name": "stdout",
     "output_type": "stream",
     "text": [
      "17\n"
     ]
    }
   ],
   "source": [
    "#This a simple arithmetic expression to mutiply then add integers\n",
    "result = (3*4)+5\n",
    "print (result)"
   ]
  },
  {
   "cell_type": "code",
   "execution_count": 7,
   "id": "9ba3ef20-fb6b-486d-a72b-eeef488e1293",
   "metadata": {
    "tags": []
   },
   "outputs": [
    {
     "name": "stdout",
     "output_type": "stream",
     "text": [
      "Total hours = 3.3333333333333335\n"
     ]
    }
   ],
   "source": [
    "#This will convert 200 minutes to hours by diving by 60\n",
    "min= 200\n",
    "Hour = (200/60)\n",
    "print(\"Total hours =\",Hour)"
   ]
  },
  {
   "cell_type": "markdown",
   "id": "66f4fc5b-a5ad-4451-9a90-e3f8d596bb46",
   "metadata": {
    "tags": []
   },
   "source": [
    "__Objectives:__\n",
    "- List popular programming languages for Data Science.\n",
    "- Highlight commonly used libraries in the Data Science field.\n",
    "- Provide insights into open-source development environment tools for Data Science."
   ]
  },
  {
   "cell_type": "markdown",
   "id": "7f62828f-62e1-4155-9d89-ac1b53323604",
   "metadata": {
    "tags": []
   },
   "source": [
    "## Author\n",
    "Aashish Budha Magar"
   ]
  }
 ],
 "metadata": {
  "kernelspec": {
   "display_name": "Python 3 (ipykernel)",
   "language": "python",
   "name": "python3"
  },
  "language_info": {
   "codemirror_mode": {
    "name": "ipython",
    "version": 3
   },
   "file_extension": ".py",
   "mimetype": "text/x-python",
   "name": "python",
   "nbconvert_exporter": "python",
   "pygments_lexer": "ipython3",
   "version": "3.11.5"
  }
 },
 "nbformat": 4,
 "nbformat_minor": 5
}
